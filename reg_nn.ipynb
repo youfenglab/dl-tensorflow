{
 "cells": [
  {
   "cell_type": "code",
   "execution_count": 1,
   "id": "489f1f76-909b-48ee-a5f6-6be69a8c65e7",
   "metadata": {},
   "outputs": [],
   "source": [
    "import tensorflow as tf\n",
    "from tensorflow import keras"
   ]
  },
  {
   "cell_type": "code",
   "execution_count": 2,
   "id": "7f1aa11b-cb90-428c-be2d-9c1cb584f8f5",
   "metadata": {},
   "outputs": [],
   "source": [
    "# load data \n",
    "from sklearn.datasets import fetch_california_housing\n",
    "from sklearn.model_selection import train_test_split\n",
    "from sklearn.preprocessing import StandardScaler"
   ]
  },
  {
   "cell_type": "code",
   "execution_count": 3,
   "id": "9c3dae87-6c09-4338-aef5-df755861db05",
   "metadata": {},
   "outputs": [],
   "source": [
    "housing = fetch_california_housing()"
   ]
  },
  {
   "cell_type": "code",
   "execution_count": 4,
   "id": "7974ca2c-5ddf-41da-921c-81195c000111",
   "metadata": {},
   "outputs": [
    {
     "data": {
      "text/plain": [
       "((20640, 8), (20640,))"
      ]
     },
     "execution_count": 4,
     "metadata": {},
     "output_type": "execute_result"
    }
   ],
   "source": [
    "housing.data.shape, housing.target.shape"
   ]
  },
  {
   "cell_type": "code",
   "execution_count": 5,
   "id": "94470d7c-3881-4428-bbba-94417f54b101",
   "metadata": {},
   "outputs": [
    {
     "data": {
      "text/plain": [
       "(['MedInc',\n",
       "  'HouseAge',\n",
       "  'AveRooms',\n",
       "  'AveBedrms',\n",
       "  'Population',\n",
       "  'AveOccup',\n",
       "  'Latitude',\n",
       "  'Longitude'],\n",
       " ['MedHouseVal'])"
      ]
     },
     "execution_count": 5,
     "metadata": {},
     "output_type": "execute_result"
    }
   ],
   "source": [
    "housing.feature_names, housing.target_names"
   ]
  },
  {
   "cell_type": "code",
   "execution_count": 6,
   "id": "0b471381-4b48-450b-be50-0d961bc4f1f1",
   "metadata": {},
   "outputs": [
    {
     "data": {
      "text/plain": [
       "(dtype('float64'), dtype('float64'))"
      ]
     },
     "execution_count": 6,
     "metadata": {},
     "output_type": "execute_result"
    }
   ],
   "source": [
    "housing.data.dtype, housing.target.dtype"
   ]
  },
  {
   "cell_type": "code",
   "execution_count": 7,
   "id": "0a36ff40-0c28-464f-873c-414ad1cb8d2f",
   "metadata": {},
   "outputs": [],
   "source": [
    "X, X_test, y, y_test = train_test_split(housing.data, housing.target, test_size=0.2,random_state=42)\n",
    "X_train, X_valid, y_train, y_valid = train_test_split(X, y, train_size=0.8, random_state=42)\n",
    "\n",
    "scaler = StandardScaler()\n",
    "X_train = scaler.fit_transform(X_train)\n",
    "X_valid = scaler.transform(X_valid)\n",
    "X_test = scaler.transform(X_test)"
   ]
  },
  {
   "cell_type": "code",
   "execution_count": 8,
   "id": "6574e30d-2062-42cf-b386-f0e379943692",
   "metadata": {},
   "outputs": [
    {
     "data": {
      "text/plain": [
       "(8,)"
      ]
     },
     "execution_count": 8,
     "metadata": {},
     "output_type": "execute_result"
    }
   ],
   "source": [
    "X_train.shape[1:]"
   ]
  },
  {
   "cell_type": "code",
   "execution_count": 9,
   "id": "a11f67b6-cd68-4183-aa78-44c1934ed0f9",
   "metadata": {},
   "outputs": [
    {
     "data": {
      "text/plain": [
       "(3,)"
      ]
     },
     "execution_count": 9,
     "metadata": {},
     "output_type": "execute_result"
    }
   ],
   "source": [
    "import numpy as np\n",
    "np.array([1,2,3]).shape"
   ]
  },
  {
   "cell_type": "code",
   "execution_count": 10,
   "id": "f6e9302a-a50a-4f22-8f30-14b95ae8d613",
   "metadata": {},
   "outputs": [],
   "source": [
    "# build model\n",
    "model = keras.models.Sequential()\n",
    "model.add(keras.layers.Dense(30, activation=\"relu\", input_shape=X_train.shape[1:]))\n",
    "model.add(keras.layers.Dense(1))"
   ]
  },
  {
   "cell_type": "code",
   "execution_count": 11,
   "id": "d8a8ff92-f849-42ad-a305-b82e50a5429f",
   "metadata": {},
   "outputs": [
    {
     "name": "stdout",
     "output_type": "stream",
     "text": [
      "Model: \"sequential\"\n",
      "_________________________________________________________________\n",
      " Layer (type)                Output Shape              Param #   \n",
      "=================================================================\n",
      " dense (Dense)               (None, 30)                270       \n",
      "                                                                 \n",
      " dense_1 (Dense)             (None, 1)                 31        \n",
      "                                                                 \n",
      "=================================================================\n",
      "Total params: 301\n",
      "Trainable params: 301\n",
      "Non-trainable params: 0\n",
      "_________________________________________________________________\n"
     ]
    }
   ],
   "source": [
    "model.summary()"
   ]
  },
  {
   "cell_type": "code",
   "execution_count": 12,
   "id": "11b04b47-a9cc-4c25-9c78-accdeb2de0c8",
   "metadata": {},
   "outputs": [],
   "source": [
    "# model.get_weights()"
   ]
  },
  {
   "cell_type": "code",
   "execution_count": 13,
   "id": "93c21c8a-5f31-474c-81fc-7b48adb52daf",
   "metadata": {},
   "outputs": [],
   "source": [
    "model.compile(loss=\"mean_squared_error\", optimizer=\"sgd\")"
   ]
  },
  {
   "cell_type": "code",
   "execution_count": 14,
   "id": "eb28b69a-cfef-48de-8de4-6f94d8f20e81",
   "metadata": {},
   "outputs": [
    {
     "name": "stdout",
     "output_type": "stream",
     "text": [
      "Epoch 1/20\n",
      "413/413 [==============================] - 2s 2ms/step - loss: 1.1160 - val_loss: 12.4790\n",
      "Epoch 2/20\n",
      "413/413 [==============================] - 1s 2ms/step - loss: 7.7066 - val_loss: 0.6198\n",
      "Epoch 3/20\n",
      "413/413 [==============================] - 1s 2ms/step - loss: 0.4444 - val_loss: 0.4088\n",
      "Epoch 4/20\n",
      "413/413 [==============================] - 1s 2ms/step - loss: 0.3853 - val_loss: 0.4228\n",
      "Epoch 5/20\n",
      "413/413 [==============================] - 1s 2ms/step - loss: 0.3706 - val_loss: 0.3926\n",
      "Epoch 6/20\n",
      "413/413 [==============================] - 1s 2ms/step - loss: 0.3629 - val_loss: 0.3946\n",
      "Epoch 7/20\n",
      "413/413 [==============================] - 1s 2ms/step - loss: 0.3600 - val_loss: 0.3807\n",
      "Epoch 8/20\n",
      "413/413 [==============================] - 1s 2ms/step - loss: 0.3579 - val_loss: 0.3779\n",
      "Epoch 9/20\n",
      "413/413 [==============================] - 1s 2ms/step - loss: 0.3531 - val_loss: 0.3829\n",
      "Epoch 10/20\n",
      "413/413 [==============================] - 1s 2ms/step - loss: 0.3517 - val_loss: 0.3742\n",
      "Epoch 11/20\n",
      "413/413 [==============================] - 1s 2ms/step - loss: 0.3486 - val_loss: 0.3787\n",
      "Epoch 12/20\n",
      "413/413 [==============================] - 1s 2ms/step - loss: 0.3478 - val_loss: 0.3710\n",
      "Epoch 13/20\n",
      "413/413 [==============================] - 1s 2ms/step - loss: 0.3480 - val_loss: 0.3804\n",
      "Epoch 14/20\n",
      "413/413 [==============================] - 1s 2ms/step - loss: 0.3454 - val_loss: 0.3704\n",
      "Epoch 15/20\n",
      "413/413 [==============================] - 1s 2ms/step - loss: 0.3443 - val_loss: 0.3677\n",
      "Epoch 16/20\n",
      "413/413 [==============================] - 1s 2ms/step - loss: 0.3421 - val_loss: 0.3787\n",
      "Epoch 17/20\n",
      "413/413 [==============================] - 1s 2ms/step - loss: 0.3410 - val_loss: 0.3661\n",
      "Epoch 18/20\n",
      "413/413 [==============================] - 1s 2ms/step - loss: 0.3410 - val_loss: 0.3669\n",
      "Epoch 19/20\n",
      "413/413 [==============================] - 1s 2ms/step - loss: 0.3406 - val_loss: 0.3782\n",
      "Epoch 20/20\n",
      "413/413 [==============================] - 1s 2ms/step - loss: 0.3375 - val_loss: 0.3683\n"
     ]
    }
   ],
   "source": [
    "# train model\n",
    "history = model.fit(X_train, y_train, epochs=20, validation_data=(X_valid, y_valid))"
   ]
  },
  {
   "cell_type": "code",
   "execution_count": 15,
   "id": "180c3369-9435-403c-baa1-71f79c07c32b",
   "metadata": {},
   "outputs": [
    {
     "data": {
      "image/png": "[encoded data removed]",
      "text/plain": [
       "<Figure size 576x360 with 1 Axes>"
      ]
     },
     "metadata": {
      "needs_background": "light"
     },
     "output_type": "display_data"
    }
   ],
   "source": [
    "import pandas as pd\n",
    "import matplotlib.pyplot as plt\n",
    "\n",
    "pd.DataFrame(history.history).plot(figsize=(8,5))\n",
    "plt.grid(True)\n",
    "plt.show()"
   ]
  },
  {
   "cell_type": "code",
   "execution_count": 16,
   "id": "d4e25207-f035-448e-8ed2-a03d4c1de5d4",
   "metadata": {},
   "outputs": [
    {
     "name": "stdout",
     "output_type": "stream",
     "text": [
      "129/129 [==============================] - 0s 1ms/step - loss: 0.3551\n"
     ]
    },
    {
     "data": {
      "text/plain": [
       "0.35513994097709656"
      ]
     },
     "execution_count": 16,
     "metadata": {},
     "output_type": "execute_result"
    }
   ],
   "source": [
    "model.evaluate(X_test, y_test)"
   ]
  },
  {
   "cell_type": "code",
   "execution_count": 17,
   "id": "cc4ff0b6-fb17-4a34-b8b2-537d42e752f6",
   "metadata": {},
   "outputs": [],
   "source": [
    "X_new, y_new = X_test[:3], y_test[:3]"
   ]
  },
  {
   "cell_type": "code",
   "execution_count": 18,
   "id": "09fe6c5d-4f60-44ac-a335-b2c7c0cb6330",
   "metadata": {},
   "outputs": [
    {
     "data": {
      "text/plain": [
       "array([0.477  , 0.458  , 5.00001])"
      ]
     },
     "execution_count": 18,
     "metadata": {},
     "output_type": "execute_result"
    }
   ],
   "source": [
    "y_new"
   ]
  },
  {
   "cell_type": "code",
   "execution_count": 19,
   "id": "91217d4b-adad-4fd4-97ea-da3080253222",
   "metadata": {},
   "outputs": [
    {
     "data": {
      "text/plain": [
       "array([[0.8274102],\n",
       "       [1.7393379],\n",
       "       [4.3778915]], dtype=float32)"
      ]
     },
     "execution_count": 19,
     "metadata": {},
     "output_type": "execute_result"
    }
   ],
   "source": [
    "y_pred = model.predict(X_new)\n",
    "y_pred"
   ]
  },
  {
   "cell_type": "code",
   "execution_count": 20,
   "id": "93f9f165-511f-4927-b7a2-9b3bbf21e80e",
   "metadata": {},
   "outputs": [],
   "source": [
    "# build wide & deep model 1\n",
    "input_ = keras.layers.Input(shape=X_train.shape[1:])\n",
    "hidden1 = keras.layers.Dense(30, activation=\"relu\")(input_)\n",
    "hidden2 = keras.layers.Dense(30, activation=\"relu\")(hidden1)\n",
    "concat = keras.layers.Concatenate()([input_, hidden2])\n",
    "output = keras.layers.Dense(1)(concat)\n",
    "model = keras.Model(inputs=[input_], outputs=[output])"
   ]
  },
  {
   "cell_type": "code",
   "execution_count": 21,
   "id": "658b6614-2c3e-4ba3-8d77-362160409713",
   "metadata": {},
   "outputs": [],
   "source": [
    "# build wide & deep model 1_2\n",
    "input_ = keras.layers.Input(shape=X_train.shape[1:])\n",
    "hidden1 = keras.layers.Dense(100, activation=\"relu\")(input_)\n",
    "hidden2 = keras.layers.Dense(30, activation=\"relu\")(hidden1)\n",
    "output = keras.layers.Dense(1)(hidden2)\n",
    "model = keras.Model(inputs=[input_], outputs=[output])"
   ]
  },
  {
   "cell_type": "code",
   "execution_count": 22,
   "id": "b7cb5437-e132-4d68-ae23-1c132640854e",
   "metadata": {},
   "outputs": [],
   "source": [
    "model.compile(loss=\"mean_squared_error\", optimizer=\"sgd\")"
   ]
  },
  {
   "cell_type": "code",
   "execution_count": 23,
   "id": "e1bf7794-5d74-478d-87b3-ae631767b41f",
   "metadata": {},
   "outputs": [
    {
     "name": "stdout",
     "output_type": "stream",
     "text": [
      "Epoch 1/20\n",
      "413/413 [==============================] - 1s 2ms/step - loss: 0.6940 - val_loss: 0.4864\n",
      "Epoch 2/20\n",
      "413/413 [==============================] - 1s 2ms/step - loss: 0.4310 - val_loss: 0.4743\n",
      "Epoch 3/20\n",
      "413/413 [==============================] - 1s 2ms/step - loss: 0.3940 - val_loss: 0.3972\n",
      "Epoch 4/20\n",
      "413/413 [==============================] - 1s 2ms/step - loss: 0.3733 - val_loss: 0.3904\n",
      "Epoch 5/20\n",
      "413/413 [==============================] - 1s 2ms/step - loss: 0.3596 - val_loss: 0.3821\n",
      "Epoch 6/20\n",
      "413/413 [==============================] - 1s 2ms/step - loss: 0.3539 - val_loss: 0.3710\n",
      "Epoch 7/20\n",
      "413/413 [==============================] - 1s 2ms/step - loss: 0.3453 - val_loss: 0.3696\n",
      "Epoch 8/20\n",
      "413/413 [==============================] - 1s 2ms/step - loss: 0.3386 - val_loss: 0.3618\n",
      "Epoch 9/20\n",
      "413/413 [==============================] - 1s 2ms/step - loss: 0.3362 - val_loss: 0.3577\n",
      "Epoch 10/20\n",
      "413/413 [==============================] - 1s 2ms/step - loss: 0.3309 - val_loss: 0.3656\n",
      "Epoch 11/20\n",
      "413/413 [==============================] - 1s 2ms/step - loss: 0.3269 - val_loss: 0.3597\n",
      "Epoch 12/20\n",
      "413/413 [==============================] - 1s 2ms/step - loss: 0.3239 - val_loss: 0.3718\n",
      "Epoch 13/20\n",
      "413/413 [==============================] - 1s 2ms/step - loss: 0.3218 - val_loss: 0.3641\n",
      "Epoch 14/20\n",
      "413/413 [==============================] - 1s 2ms/step - loss: 0.3172 - val_loss: 0.3500\n",
      "Epoch 15/20\n",
      "413/413 [==============================] - 1s 2ms/step - loss: 0.3135 - val_loss: 0.3802\n",
      "Epoch 16/20\n",
      "413/413 [==============================] - 1s 2ms/step - loss: 0.3128 - val_loss: 0.3436\n",
      "Epoch 17/20\n",
      "413/413 [==============================] - 1s 2ms/step - loss: 0.3089 - val_loss: 0.3500\n",
      "Epoch 18/20\n",
      "413/413 [==============================] - 1s 2ms/step - loss: 0.3073 - val_loss: 0.3533\n",
      "Epoch 19/20\n",
      "413/413 [==============================] - 1s 2ms/step - loss: 0.3061 - val_loss: 0.3330\n",
      "Epoch 20/20\n",
      "413/413 [==============================] - 1s 2ms/step - loss: 0.3019 - val_loss: 0.3580\n"
     ]
    }
   ],
   "source": [
    "# train model\n",
    "history = model.fit(X_train, y_train, epochs=20, validation_data=(X_valid, y_valid))"
   ]
  },
  {
   "cell_type": "code",
   "execution_count": 24,
   "id": "75fc746d-3b0d-4924-9376-324fab26008b",
   "metadata": {},
   "outputs": [
    {
     "name": "stdout",
     "output_type": "stream",
     "text": [
      "129/129 [==============================] - 0s 1ms/step - loss: 0.3204\n"
     ]
    },
    {
     "data": {
      "text/plain": [
       "0.32040587067604065"
      ]
     },
     "execution_count": 24,
     "metadata": {},
     "output_type": "execute_result"
    }
   ],
   "source": [
    "model.evaluate(X_test, y_test)"
   ]
  },
  {
   "cell_type": "code",
   "execution_count": 25,
   "id": "8b334122-0935-457c-8a23-d847731c5ac4",
   "metadata": {},
   "outputs": [
    {
     "data": {
      "text/plain": [
       "array([[0.78658116],\n",
       "       [1.3481123 ],\n",
       "       [4.2370534 ]], dtype=float32)"
      ]
     },
     "execution_count": 25,
     "metadata": {},
     "output_type": "execute_result"
    }
   ],
   "source": [
    "y_pred = model.predict(X_new)\n",
    "y_pred"
   ]
  },
  {
   "cell_type": "code",
   "execution_count": 26,
   "id": "90c5b462-0efa-4df2-838f-f9bcd3cb7be6",
   "metadata": {},
   "outputs": [],
   "source": [
    "# build wide & deep model 2\n",
    "input_A = keras.layers.Input(shape=[5], name=\"wide_input\")\n",
    "input_B = keras.layers.Input(shape=[6], name=\"deep_input\")\n",
    "hidden1 = keras.layers.Dense(30, activation=\"relu\")(input_B)\n",
    "hidden2 = keras.layers.Dense(30, activation=\"relu\")(hidden1)\n",
    "concat = keras.layers.Concatenate()([input_A, hidden2])\n",
    "output = keras.layers.Dense(1, name=\"output\")(concat)\n",
    "model = keras.Model(inputs=[input_A, input_B], outputs=[output])"
   ]
  },
  {
   "cell_type": "code",
   "execution_count": 27,
   "id": "6ee71a66-0ddd-4605-999b-5a257b02fafa",
   "metadata": {},
   "outputs": [],
   "source": [
    "model.compile(loss=\"mean_squared_error\", optimizer=keras.optimizers.SGD(learning_rate=1e-3))"
   ]
  },
  {
   "cell_type": "code",
   "execution_count": 28,
   "id": "09f3c12e-e351-4ba3-8e13-2811379105f8",
   "metadata": {},
   "outputs": [],
   "source": [
    "X_train_A, X_train_B = X_train[:, :5], X_train[:, 2:]\n",
    "X_valid_A, X_valid_B = X_valid[:, :5], X_valid[:, 2:]\n",
    "X_test_A, X_test_B = X_test[:, :5], X_test[:, 2:]"
   ]
  },
  {
   "cell_type": "code",
   "execution_count": 29,
   "id": "952d493b-8980-4fd4-90c4-4d5bac92c2e0",
   "metadata": {},
   "outputs": [
    {
     "name": "stdout",
     "output_type": "stream",
     "text": [
      "Epoch 1/20\n",
      "413/413 [==============================] - 1s 2ms/step - loss: 1.5692 - val_loss: 0.7645\n",
      "Epoch 2/20\n",
      "413/413 [==============================] - 1s 2ms/step - loss: 0.6560 - val_loss: 0.6508\n",
      "Epoch 3/20\n",
      "413/413 [==============================] - 1s 2ms/step - loss: 0.6007 - val_loss: 0.6137\n",
      "Epoch 4/20\n",
      "413/413 [==============================] - 1s 2ms/step - loss: 0.5699 - val_loss: 0.5825\n",
      "Epoch 5/20\n",
      "413/413 [==============================] - 1s 2ms/step - loss: 0.5457 - val_loss: 0.5587\n",
      "Epoch 6/20\n",
      "413/413 [==============================] - 1s 2ms/step - loss: 0.5256 - val_loss: 0.5433\n",
      "Epoch 7/20\n",
      "413/413 [==============================] - 1s 2ms/step - loss: 0.5091 - val_loss: 0.5243\n",
      "Epoch 8/20\n",
      "413/413 [==============================] - 1s 2ms/step - loss: 0.4955 - val_loss: 0.5119\n",
      "Epoch 9/20\n",
      "413/413 [==============================] - 1s 2ms/step - loss: 0.4840 - val_loss: 0.5015\n",
      "Epoch 10/20\n",
      "413/413 [==============================] - 1s 2ms/step - loss: 0.4748 - val_loss: 0.4932\n",
      "Epoch 11/20\n",
      "413/413 [==============================] - 1s 2ms/step - loss: 0.4667 - val_loss: 0.4857\n",
      "Epoch 12/20\n",
      "413/413 [==============================] - 1s 2ms/step - loss: 0.4601 - val_loss: 0.4776\n",
      "Epoch 13/20\n",
      "413/413 [==============================] - 1s 2ms/step - loss: 0.4544 - val_loss: 0.4729\n",
      "Epoch 14/20\n",
      "413/413 [==============================] - 1s 2ms/step - loss: 0.4491 - val_loss: 0.4686\n",
      "Epoch 15/20\n",
      "413/413 [==============================] - 1s 2ms/step - loss: 0.4452 - val_loss: 0.4647\n",
      "Epoch 16/20\n",
      "413/413 [==============================] - 1s 2ms/step - loss: 0.4407 - val_loss: 0.4597\n",
      "Epoch 17/20\n",
      "413/413 [==============================] - 1s 2ms/step - loss: 0.4378 - val_loss: 0.4623\n",
      "Epoch 18/20\n",
      "413/413 [==============================] - 1s 2ms/step - loss: 0.4350 - val_loss: 0.4541\n",
      "Epoch 19/20\n",
      "413/413 [==============================] - 1s 2ms/step - loss: 0.4321 - val_loss: 0.4542\n",
      "Epoch 20/20\n",
      "413/413 [==============================] - 1s 2ms/step - loss: 0.4294 - val_loss: 0.4530\n"
     ]
    }
   ],
   "source": [
    "history = model.fit((X_train_A, X_train_B), y_train, epochs=20, validation_data=((X_valid_A, X_valid_B), y_valid))"
   ]
  },
  {
   "cell_type": "code",
   "execution_count": 30,
   "id": "1a744947-e55e-4662-8504-f6fda655668d",
   "metadata": {},
   "outputs": [
    {
     "name": "stdout",
     "output_type": "stream",
     "text": [
      "129/129 [==============================] - 0s 2ms/step - loss: 0.4509\n"
     ]
    },
    {
     "data": {
      "text/plain": [
       "0.4508771002292633"
      ]
     },
     "execution_count": 30,
     "metadata": {},
     "output_type": "execute_result"
    }
   ],
   "source": [
    "model.evaluate((X_test_A, X_test_B), y_test)"
   ]
  },
  {
   "cell_type": "code",
   "execution_count": 31,
   "id": "0f427219-cb0d-49dc-b7fc-66aa7098fc32",
   "metadata": {},
   "outputs": [],
   "source": [
    "X_new_A, X_new_B = X_test_A[:3], X_test_B[:3]"
   ]
  },
  {
   "cell_type": "code",
   "execution_count": 32,
   "id": "44c347be-0230-4d1f-9b42-0b06a826a0cf",
   "metadata": {},
   "outputs": [
    {
     "data": {
      "text/plain": [
       "array([[0.44889414],\n",
       "       [1.9161514 ],\n",
       "       [2.9835    ]], dtype=float32)"
      ]
     },
     "execution_count": 32,
     "metadata": {},
     "output_type": "execute_result"
    }
   ],
   "source": [
    "y_pred = model.predict((X_new_A, X_new_B))\n",
    "y_pred"
   ]
  },
  {
   "cell_type": "code",
   "execution_count": 33,
   "id": "b31756f2-c6e1-4613-b49e-b03b0e15d8aa",
   "metadata": {},
   "outputs": [
    {
     "data": {
      "text/plain": [
       "array([0.477  , 0.458  , 5.00001])"
      ]
     },
     "execution_count": 33,
     "metadata": {},
     "output_type": "execute_result"
    }
   ],
   "source": [
    "y_new"
   ]
  },
  {
   "cell_type": "code",
   "execution_count": null,
   "id": "fed910d0-8538-42b7-8480-33811d505179",
   "metadata": {},
   "outputs": [],
   "source": []
  }
 ],
 "metadata": {
  "kernelspec": {
   "display_name": "tf2:Python",
   "language": "python",
   "name": "conda-env-tf2-py"
  },
  "language_info": {
   "codemirror_mode": {
    "name": "ipython",
    "version": 3
   },
   "file_extension": ".py",
   "mimetype": "text/x-python",
   "name": "python",
   "nbconvert_exporter": "python",
   "pygments_lexer": "ipython3",
   "version": "3.8.12"
  }
 },
 "nbformat": 4,
 "nbformat_minor": 5
}
