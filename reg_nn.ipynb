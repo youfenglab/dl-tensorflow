{
 "cells": [
  {
   "cell_type": "code",
   "execution_count": 1,
   "id": "489f1f76-909b-48ee-a5f6-6be69a8c65e7",
   "metadata": {},
   "outputs": [],
   "source": [
    "import tensorflow as tf\n",
    "from tensorflow import keras"
   ]
  },
  {
   "cell_type": "code",
   "execution_count": 2,
   "id": "85144613-dacc-41a7-a9a5-a76245f84937",
   "metadata": {},
   "outputs": [
    {
     "name": "stdout",
     "output_type": "stream",
     "text": [
      "Sun Jan  9 03:11:16 2022       \n",
      "+-----------------------------------------------------------------------------+\n",
      "| NVIDIA-SMI 470.57.02    Driver Version: 470.57.02    CUDA Version: 11.4     |\n",
      "|-------------------------------+----------------------+----------------------+\n",
      "| GPU  Name        Persistence-M| Bus-Id        Disp.A | Volatile Uncorr. ECC |\n",
      "| Fan  Temp  Perf  Pwr:Usage/Cap|         Memory-Usage | GPU-Util  Compute M. |\n",
      "|                               |                      |               MIG M. |\n",
      "|===============================+======================+======================|\n",
      "|   0  Tesla T4            Off  | 00000000:00:1E.0 Off |                    0 |\n",
      "| N/A   27C    P0    25W /  70W |  14228MiB / 15109MiB |      0%      Default |\n",
      "|                               |                      |                  N/A |\n",
      "+-------------------------------+----------------------+----------------------+\n",
      "                                                                               \n",
      "+-----------------------------------------------------------------------------+\n",
      "| Processes:                                                                  |\n",
      "|  GPU   GI   CI        PID   Type   Process name                  GPU Memory |\n",
      "|        ID   ID                                                   Usage      |\n",
      "|=============================================================================|\n",
      "+-----------------------------------------------------------------------------+\n"
     ]
    }
   ],
   "source": [
    "!nvidia-smi"
   ]
  },
  {
   "cell_type": "code",
   "execution_count": 3,
   "id": "54b41583-762c-4b37-b440-4309dab22b2a",
   "metadata": {},
   "outputs": [],
   "source": [
    "# print(\"Num GPUs Available: \", len(tf.config.list_physical_devices('GPU')))\n",
    "# tf.debugging.set_log_device_placement(True)"
   ]
  },
  {
   "cell_type": "code",
   "execution_count": 4,
   "id": "5c72ed79-0017-4fc1-8c17-af45b8ad2ee8",
   "metadata": {},
   "outputs": [
    {
     "name": "stdout",
     "output_type": "stream",
     "text": [
      "tf.Tensor(\n",
      "[[22. 28.]\n",
      " [49. 64.]], shape=(2, 2), dtype=float32)\n"
     ]
    }
   ],
   "source": [
    "# Create some tensors\n",
    "a = tf.constant([[1.0, 2.0, 3.0], [4.0, 5.0, 6.0]])\n",
    "b = tf.constant([[1.0, 2.0], [3.0, 4.0], [5.0, 6.0]])\n",
    "c = tf.matmul(a, b)\n",
    "\n",
    "print(c)"
   ]
  },
  {
   "cell_type": "code",
   "execution_count": 5,
   "id": "c3fe91b0-4e11-496a-8cae-3afc2ae597cd",
   "metadata": {},
   "outputs": [
    {
     "data": {
      "text/plain": [
       "'/job:localhost/replica:0/task:0/device:GPU:0'"
      ]
     },
     "execution_count": 5,
     "metadata": {},
     "output_type": "execute_result"
    }
   ],
   "source": [
    "c.device"
   ]
  },
  {
   "cell_type": "code",
   "execution_count": 6,
   "id": "7f1aa11b-cb90-428c-be2d-9c1cb584f8f5",
   "metadata": {
    "tags": []
   },
   "outputs": [],
   "source": [
    "# load data \n",
    "from sklearn.datasets import fetch_california_housing\n",
    "from sklearn.model_selection import train_test_split\n",
    "from sklearn.preprocessing import StandardScaler"
   ]
  },
  {
   "cell_type": "code",
   "execution_count": 7,
   "id": "9c3dae87-6c09-4338-aef5-df755861db05",
   "metadata": {},
   "outputs": [],
   "source": [
    "housing = fetch_california_housing()"
   ]
  },
  {
   "cell_type": "code",
   "execution_count": 8,
   "id": "7974ca2c-5ddf-41da-921c-81195c000111",
   "metadata": {},
   "outputs": [
    {
     "data": {
      "text/plain": [
       "((20640, 8), (20640,))"
      ]
     },
     "execution_count": 8,
     "metadata": {},
     "output_type": "execute_result"
    }
   ],
   "source": [
    "housing.data.shape, housing.target.shape"
   ]
  },
  {
   "cell_type": "code",
   "execution_count": 9,
   "id": "94470d7c-3881-4428-bbba-94417f54b101",
   "metadata": {},
   "outputs": [
    {
     "data": {
      "text/plain": [
       "(['MedInc',\n",
       "  'HouseAge',\n",
       "  'AveRooms',\n",
       "  'AveBedrms',\n",
       "  'Population',\n",
       "  'AveOccup',\n",
       "  'Latitude',\n",
       "  'Longitude'],\n",
       " ['MedHouseVal'])"
      ]
     },
     "execution_count": 9,
     "metadata": {},
     "output_type": "execute_result"
    }
   ],
   "source": [
    "housing.feature_names, housing.target_names"
   ]
  },
  {
   "cell_type": "code",
   "execution_count": 10,
   "id": "0b471381-4b48-450b-be50-0d961bc4f1f1",
   "metadata": {},
   "outputs": [
    {
     "data": {
      "text/plain": [
       "(dtype('float64'), dtype('float64'))"
      ]
     },
     "execution_count": 10,
     "metadata": {},
     "output_type": "execute_result"
    }
   ],
   "source": [
    "housing.data.dtype, housing.target.dtype"
   ]
  },
  {
   "cell_type": "code",
   "execution_count": 11,
   "id": "40ab6702-bf44-4c65-9d4d-9cd29c105711",
   "metadata": {},
   "outputs": [],
   "source": [
    "import numpy as np\n",
    "def my_func(arg):\n",
    "    arg = tf.convert_to_tensor(arg, dtype=tf.float32)\n",
    "    return arg"
   ]
  },
  {
   "cell_type": "code",
   "execution_count": 12,
   "id": "3b75c1c2-f923-4f42-a602-749350b2d803",
   "metadata": {},
   "outputs": [
    {
     "data": {
      "text/plain": [
       "array([4.526, 3.585, 3.521, ..., 0.923, 0.847, 0.894])"
      ]
     },
     "execution_count": 12,
     "metadata": {},
     "output_type": "execute_result"
    }
   ],
   "source": [
    "housing.target"
   ]
  },
  {
   "cell_type": "code",
   "execution_count": 13,
   "id": "0a36ff40-0c28-464f-873c-414ad1cb8d2f",
   "metadata": {},
   "outputs": [],
   "source": [
    "X, X_test, y, y_test = train_test_split(housing.data, housing.target, test_size=0.2,random_state=42)\n",
    "X_train, X_valid, y_train, y_valid = train_test_split(X, y, train_size=0.8, random_state=42)\n",
    "\n",
    "scaler = StandardScaler()\n",
    "X_train = scaler.fit_transform(X_train)\n",
    "X_valid = scaler.transform(X_valid)\n",
    "X_test = scaler.transform(X_test)"
   ]
  },
  {
   "cell_type": "code",
   "execution_count": 14,
   "id": "ab24ce1c-f58f-407e-a518-0ecc5f608a02",
   "metadata": {},
   "outputs": [],
   "source": [
    "X_train = my_func(X_train)\n",
    "X_valid = my_func(X_valid)\n",
    "X_test = my_func(X_test)\n",
    "\n",
    "y_train = my_func(y_train)\n",
    "y_valid = my_func(y_valid)\n",
    "y_test = my_func(y_test)"
   ]
  },
  {
   "cell_type": "code",
   "execution_count": 15,
   "id": "6574e30d-2062-42cf-b386-f0e379943692",
   "metadata": {
    "tags": []
   },
   "outputs": [
    {
     "data": {
      "text/plain": [
       "TensorShape([8])"
      ]
     },
     "execution_count": 15,
     "metadata": {},
     "output_type": "execute_result"
    }
   ],
   "source": [
    "X_train.shape[1:]"
   ]
  },
  {
   "cell_type": "code",
   "execution_count": 16,
   "id": "a11f67b6-cd68-4183-aa78-44c1934ed0f9",
   "metadata": {},
   "outputs": [
    {
     "data": {
      "text/plain": [
       "(3,)"
      ]
     },
     "execution_count": 16,
     "metadata": {},
     "output_type": "execute_result"
    }
   ],
   "source": [
    "import numpy as np\n",
    "np.array([1,2,3]).shape"
   ]
  },
  {
   "cell_type": "code",
   "execution_count": 27,
   "id": "f6e9302a-a50a-4f22-8f30-14b95ae8d613",
   "metadata": {},
   "outputs": [],
   "source": [
    "# build model\n",
    "model = keras.models.Sequential()\n",
    "model.add(keras.layers.Dense(30, activation=\"relu\", input_shape=X_train.shape[1:]))\n",
    "model.add(keras.layers.Dense(1))"
   ]
  },
  {
   "cell_type": "code",
   "execution_count": 28,
   "id": "d8a8ff92-f849-42ad-a305-b82e50a5429f",
   "metadata": {},
   "outputs": [
    {
     "name": "stdout",
     "output_type": "stream",
     "text": [
      "Model: \"sequential_2\"\n",
      "_________________________________________________________________\n",
      " Layer (type)                Output Shape              Param #   \n",
      "=================================================================\n",
      " dense_4 (Dense)             (None, 30)                270       \n",
      "                                                                 \n",
      " dense_5 (Dense)             (None, 1)                 31        \n",
      "                                                                 \n",
      "=================================================================\n",
      "Total params: 301\n",
      "Trainable params: 301\n",
      "Non-trainable params: 0\n",
      "_________________________________________________________________\n"
     ]
    }
   ],
   "source": [
    "model.summary()"
   ]
  },
  {
   "cell_type": "code",
   "execution_count": 29,
   "id": "11b04b47-a9cc-4c25-9c78-accdeb2de0c8",
   "metadata": {},
   "outputs": [],
   "source": [
    "# model.get_weights()"
   ]
  },
  {
   "cell_type": "code",
   "execution_count": 30,
   "id": "93c21c8a-5f31-474c-81fc-7b48adb52daf",
   "metadata": {},
   "outputs": [],
   "source": [
    "model.compile(loss=\"mean_squared_error\", optimizer=\"sgd\")"
   ]
  },
  {
   "cell_type": "code",
   "execution_count": 31,
   "id": "eed84ce9-6318-4206-854b-7a19d584cad3",
   "metadata": {},
   "outputs": [],
   "source": [
    "# train model\n",
    "history = model.fit(X_train, y_train, epochs=1000, batch_size=8192, verbose=0, validation_data=(X_valid, y_valid))"
   ]
  },
  {
   "cell_type": "code",
   "execution_count": 32,
   "id": "180c3369-9435-403c-baa1-71f79c07c32b",
   "metadata": {},
   "outputs": [
    {
     "data": {
      "image/png": "[encoded data removed]",
      "text/plain": [
       "<Figure size 576x360 with 1 Axes>"
      ]
     },
     "metadata": {
      "needs_background": "light"
     },
     "output_type": "display_data"
    }
   ],
   "source": [
    "import pandas as pd\n",
    "import matplotlib.pyplot as plt\n",
    "\n",
    "pd.DataFrame(history.history).plot(figsize=(8,5))\n",
    "plt.grid(True)\n",
    "plt.show()"
   ]
  },
  {
   "cell_type": "code",
   "execution_count": 33,
   "id": "d4e25207-f035-448e-8ed2-a03d4c1de5d4",
   "metadata": {},
   "outputs": [
    {
     "name": "stdout",
     "output_type": "stream",
     "text": [
      "129/129 [==============================] - 0s 1ms/step - loss: 0.4175\n"
     ]
    },
    {
     "data": {
      "text/plain": [
       "0.41749903559684753"
      ]
     },
     "execution_count": 33,
     "metadata": {},
     "output_type": "execute_result"
    }
   ],
   "source": [
    "model.evaluate(X_test, y_test)"
   ]
  },
  {
   "cell_type": "code",
   "execution_count": 35,
   "id": "cc4ff0b6-fb17-4a34-b8b2-537d42e752f6",
   "metadata": {},
   "outputs": [],
   "source": [
    "X_new, y_new = X_test[:3], y_test[:3]"
   ]
  },
  {
   "cell_type": "code",
   "execution_count": 36,
   "id": "09fe6c5d-4f60-44ac-a335-b2c7c0cb6330",
   "metadata": {},
   "outputs": [
    {
     "data": {
      "text/plain": [
       "<tf.Tensor: shape=(3,), dtype=float32, numpy=array([0.477  , 0.458  , 5.00001], dtype=float32)>"
      ]
     },
     "execution_count": 36,
     "metadata": {},
     "output_type": "execute_result"
    }
   ],
   "source": [
    "y_new"
   ]
  },
  {
   "cell_type": "code",
   "execution_count": 37,
   "id": "91217d4b-adad-4fd4-97ea-da3080253222",
   "metadata": {},
   "outputs": [
    {
     "data": {
      "text/plain": [
       "array([[0.5293626],\n",
       "       [1.8042036],\n",
       "       [3.2115579]], dtype=float32)"
      ]
     },
     "execution_count": 37,
     "metadata": {},
     "output_type": "execute_result"
    }
   ],
   "source": [
    "y_pred = model.predict(X_new)\n",
    "y_pred"
   ]
  },
  {
   "cell_type": "code",
   "execution_count": 38,
   "id": "93f9f165-511f-4927-b7a2-9b3bbf21e80e",
   "metadata": {},
   "outputs": [],
   "source": [
    "# build wide & deep model 1\n",
    "input_ = keras.layers.Input(shape=X_train.shape[1:])\n",
    "hidden1 = keras.layers.Dense(30, activation=\"relu\")(input_)\n",
    "hidden2 = keras.layers.Dense(30, activation=\"relu\")(hidden1)\n",
    "concat = keras.layers.Concatenate()([input_, hidden2])\n",
    "output = keras.layers.Dense(1)(concat)\n",
    "model = keras.Model(inputs=[input_], outputs=[output])"
   ]
  },
  {
   "cell_type": "code",
   "execution_count": 39,
   "id": "658b6614-2c3e-4ba3-8d77-362160409713",
   "metadata": {},
   "outputs": [],
   "source": [
    "# build wide & deep model 1_2\n",
    "input_ = keras.layers.Input(shape=X_train.shape[1:])\n",
    "hidden1 = keras.layers.Dense(100, activation=\"relu\")(input_)\n",
    "hidden2 = keras.layers.Dense(30, activation=\"relu\")(hidden1)\n",
    "output = keras.layers.Dense(1)(hidden2)\n",
    "model = keras.Model(inputs=[input_], outputs=[output])"
   ]
  },
  {
   "cell_type": "code",
   "execution_count": 40,
   "id": "b7cb5437-e132-4d68-ae23-1c132640854e",
   "metadata": {},
   "outputs": [],
   "source": [
    "model.compile(loss=\"mean_squared_error\", optimizer=\"sgd\")"
   ]
  },
  {
   "cell_type": "code",
   "execution_count": 41,
   "id": "e1bf7794-5d74-478d-87b3-ae631767b41f",
   "metadata": {},
   "outputs": [
    {
     "name": "stdout",
     "output_type": "stream",
     "text": [
      "Epoch 1/20\n",
      "2/2 [==============================] - 0s 95ms/step - loss: 4.1526 - val_loss: 3.4823\n",
      "Epoch 2/20\n",
      "2/2 [==============================] - 0s 19ms/step - loss: 3.0427 - val_loss: 2.8254\n",
      "Epoch 3/20\n",
      "2/2 [==============================] - 0s 19ms/step - loss: 2.2872 - val_loss: 2.3680\n",
      "Epoch 4/20\n",
      "2/2 [==============================] - 0s 19ms/step - loss: 1.7732 - val_loss: 2.1122\n",
      "Epoch 5/20\n",
      "2/2 [==============================] - 0s 19ms/step - loss: 1.4333 - val_loss: 1.9014\n",
      "Epoch 6/20\n",
      "2/2 [==============================] - 0s 19ms/step - loss: 1.2204 - val_loss: 1.7541\n",
      "Epoch 7/20\n",
      "2/2 [==============================] - 0s 19ms/step - loss: 1.0832 - val_loss: 1.5700\n",
      "Epoch 8/20\n",
      "2/2 [==============================] - 0s 19ms/step - loss: 0.9946 - val_loss: 1.4496\n",
      "Epoch 9/20\n",
      "2/2 [==============================] - 0s 19ms/step - loss: 0.9332 - val_loss: 1.3100\n",
      "Epoch 10/20\n",
      "2/2 [==============================] - 0s 19ms/step - loss: 0.8894 - val_loss: 1.1918\n",
      "Epoch 11/20\n",
      "2/2 [==============================] - 0s 19ms/step - loss: 0.8568 - val_loss: 1.1095\n",
      "Epoch 12/20\n",
      "2/2 [==============================] - 0s 19ms/step - loss: 0.8333 - val_loss: 1.0490\n",
      "Epoch 13/20\n",
      "2/2 [==============================] - 0s 19ms/step - loss: 0.8146 - val_loss: 0.9898\n",
      "Epoch 14/20\n",
      "2/2 [==============================] - 0s 19ms/step - loss: 0.7996 - val_loss: 0.9392\n",
      "Epoch 15/20\n",
      "2/2 [==============================] - 0s 19ms/step - loss: 0.7870 - val_loss: 0.9055\n",
      "Epoch 16/20\n",
      "2/2 [==============================] - 0s 19ms/step - loss: 0.7767 - val_loss: 0.8769\n",
      "Epoch 17/20\n",
      "2/2 [==============================] - 0s 19ms/step - loss: 0.7681 - val_loss: 0.8548\n",
      "Epoch 18/20\n",
      "2/2 [==============================] - 0s 19ms/step - loss: 0.7607 - val_loss: 0.8373\n",
      "Epoch 19/20\n",
      "2/2 [==============================] - 0s 19ms/step - loss: 0.7540 - val_loss: 0.8194\n",
      "Epoch 20/20\n",
      "2/2 [==============================] - 0s 19ms/step - loss: 0.7479 - val_loss: 0.8056\n"
     ]
    }
   ],
   "source": [
    "# train model\n",
    "history = model.fit(X_train, y_train, epochs=20, batch_size=8192, validation_data=(X_valid, y_valid))"
   ]
  },
  {
   "cell_type": "code",
   "execution_count": 42,
   "id": "75fc746d-3b0d-4924-9376-324fab26008b",
   "metadata": {},
   "outputs": [
    {
     "name": "stdout",
     "output_type": "stream",
     "text": [
      "129/129 [==============================] - 0s 1ms/step - loss: 0.7645\n"
     ]
    },
    {
     "data": {
      "text/plain": [
       "0.7644597291946411"
      ]
     },
     "execution_count": 42,
     "metadata": {},
     "output_type": "execute_result"
    }
   ],
   "source": [
    "model.evaluate(X_test, y_test)"
   ]
  },
  {
   "cell_type": "code",
   "execution_count": 43,
   "id": "8b334122-0935-457c-8a23-d847731c5ac4",
   "metadata": {},
   "outputs": [
    {
     "data": {
      "text/plain": [
       "array([[0.88868654],\n",
       "       [0.8693171 ],\n",
       "       [2.4972496 ]], dtype=float32)"
      ]
     },
     "execution_count": 43,
     "metadata": {},
     "output_type": "execute_result"
    }
   ],
   "source": [
    "y_pred = model.predict(X_new)\n",
    "y_pred"
   ]
  },
  {
   "cell_type": "code",
   "execution_count": 44,
   "id": "90c5b462-0efa-4df2-838f-f9bcd3cb7be6",
   "metadata": {},
   "outputs": [],
   "source": [
    "# build wide & deep model 2\n",
    "input_A = keras.layers.Input(shape=[5], name=\"wide_input\")\n",
    "input_B = keras.layers.Input(shape=[6], name=\"deep_input\")\n",
    "hidden1 = keras.layers.Dense(30, activation=\"relu\")(input_B)\n",
    "hidden2 = keras.layers.Dense(30, activation=\"relu\")(hidden1)\n",
    "concat = keras.layers.Concatenate()([input_A, hidden2])\n",
    "output = keras.layers.Dense(1, name=\"output\")(concat)\n",
    "model = keras.Model(inputs=[input_A, input_B], outputs=[output])"
   ]
  },
  {
   "cell_type": "code",
   "execution_count": 45,
   "id": "6ee71a66-0ddd-4605-999b-5a257b02fafa",
   "metadata": {},
   "outputs": [],
   "source": [
    "model.compile(loss=\"mean_squared_error\", optimizer=keras.optimizers.SGD(learning_rate=1e-3))"
   ]
  },
  {
   "cell_type": "code",
   "execution_count": 46,
   "id": "09f3c12e-e351-4ba3-8e13-2811379105f8",
   "metadata": {},
   "outputs": [],
   "source": [
    "X_train_A, X_train_B = X_train[:, :5], X_train[:, 2:]\n",
    "X_valid_A, X_valid_B = X_valid[:, :5], X_valid[:, 2:]\n",
    "X_test_A, X_test_B = X_test[:, :5], X_test[:, 2:]"
   ]
  },
  {
   "cell_type": "code",
   "execution_count": 48,
   "id": "952d493b-8980-4fd4-90c4-4d5bac92c2e0",
   "metadata": {},
   "outputs": [
    {
     "name": "stdout",
     "output_type": "stream",
     "text": [
      "Epoch 1/20\n",
      "2/2 [==============================] - 0s 44ms/step - loss: 3.5784 - val_loss: 3.7841\n",
      "Epoch 2/20\n",
      "2/2 [==============================] - 0s 20ms/step - loss: 3.5080 - val_loss: 3.7220\n",
      "Epoch 3/20\n",
      "2/2 [==============================] - 0s 20ms/step - loss: 3.4391 - val_loss: 3.6618\n",
      "Epoch 4/20\n",
      "2/2 [==============================] - 0s 20ms/step - loss: 3.3716 - val_loss: 3.6035\n",
      "Epoch 5/20\n",
      "2/2 [==============================] - 0s 20ms/step - loss: 3.3057 - val_loss: 3.5468\n",
      "Epoch 6/20\n",
      "2/2 [==============================] - 0s 21ms/step - loss: 3.2415 - val_loss: 3.4913\n",
      "Epoch 7/20\n",
      "2/2 [==============================] - 0s 20ms/step - loss: 3.1790 - val_loss: 3.4370\n",
      "Epoch 8/20\n",
      "2/2 [==============================] - 0s 20ms/step - loss: 3.1179 - val_loss: 3.3844\n",
      "Epoch 9/20\n",
      "2/2 [==============================] - 0s 20ms/step - loss: 3.0584 - val_loss: 3.3333\n",
      "Epoch 10/20\n",
      "2/2 [==============================] - 0s 20ms/step - loss: 3.0002 - val_loss: 3.2839\n",
      "Epoch 11/20\n",
      "2/2 [==============================] - 0s 20ms/step - loss: 2.9434 - val_loss: 3.2351\n",
      "Epoch 12/20\n",
      "2/2 [==============================] - 0s 20ms/step - loss: 2.8879 - val_loss: 3.1879\n",
      "Epoch 13/20\n",
      "2/2 [==============================] - 0s 20ms/step - loss: 2.8338 - val_loss: 3.1421\n",
      "Epoch 14/20\n",
      "2/2 [==============================] - 0s 21ms/step - loss: 2.7813 - val_loss: 3.0973\n",
      "Epoch 15/20\n",
      "2/2 [==============================] - 0s 21ms/step - loss: 2.7299 - val_loss: 3.0546\n",
      "Epoch 16/20\n",
      "2/2 [==============================] - 0s 23ms/step - loss: 2.6796 - val_loss: 3.0127\n",
      "Epoch 17/20\n",
      "2/2 [==============================] - 0s 20ms/step - loss: 2.6306 - val_loss: 2.9720\n",
      "Epoch 18/20\n",
      "2/2 [==============================] - 0s 20ms/step - loss: 2.5829 - val_loss: 2.9330\n",
      "Epoch 19/20\n",
      "2/2 [==============================] - 0s 20ms/step - loss: 2.5364 - val_loss: 2.8945\n",
      "Epoch 20/20\n",
      "2/2 [==============================] - 0s 20ms/step - loss: 2.4912 - val_loss: 2.8571\n"
     ]
    }
   ],
   "source": [
    "history = model.fit((X_train_A, X_train_B), y_train, epochs=20, batch_size =8192, \n",
    "                    validation_data=((X_valid_A, X_valid_B), y_valid))"
   ]
  },
  {
   "cell_type": "code",
   "execution_count": 49,
   "id": "1a744947-e55e-4662-8504-f6fda655668d",
   "metadata": {},
   "outputs": [
    {
     "name": "stdout",
     "output_type": "stream",
     "text": [
      "5/5 [==============================] - 0s 2ms/step - loss: 2.4640\n"
     ]
    },
    {
     "data": {
      "text/plain": [
       "2.464038610458374"
      ]
     },
     "execution_count": 49,
     "metadata": {},
     "output_type": "execute_result"
    }
   ],
   "source": [
    "model.evaluate((X_test_A, X_test_B), y_test, batch_size=1024)"
   ]
  },
  {
   "cell_type": "code",
   "execution_count": 50,
   "id": "0f427219-cb0d-49dc-b7fc-66aa7098fc32",
   "metadata": {},
   "outputs": [],
   "source": [
    "X_new_A, X_new_B = X_test_A[:3], X_test_B[:3]"
   ]
  },
  {
   "cell_type": "code",
   "execution_count": 51,
   "id": "44c347be-0230-4d1f-9b42-0b06a826a0cf",
   "metadata": {},
   "outputs": [
    {
     "data": {
      "text/plain": [
       "array([[0.45384318],\n",
       "       [0.58751875],\n",
       "       [1.4324967 ]], dtype=float32)"
      ]
     },
     "execution_count": 51,
     "metadata": {},
     "output_type": "execute_result"
    }
   ],
   "source": [
    "y_pred = model.predict((X_new_A, X_new_B))\n",
    "y_pred"
   ]
  },
  {
   "cell_type": "code",
   "execution_count": 52,
   "id": "b31756f2-c6e1-4613-b49e-b03b0e15d8aa",
   "metadata": {},
   "outputs": [
    {
     "data": {
      "text/plain": [
       "<tf.Tensor: shape=(3,), dtype=float32, numpy=array([0.477  , 0.458  , 5.00001], dtype=float32)>"
      ]
     },
     "execution_count": 52,
     "metadata": {},
     "output_type": "execute_result"
    }
   ],
   "source": [
    "y_new"
   ]
  },
  {
   "cell_type": "code",
   "execution_count": 53,
   "id": "fed910d0-8538-42b7-8480-33811d505179",
   "metadata": {},
   "outputs": [],
   "source": [
    "# build wide & deep model 2_2\n",
    "input_A = keras.layers.Input(shape=[5], name=\"wide_input\")\n",
    "input_B = keras.layers.Input(shape=[6], name=\"deep_input\")\n",
    "hidden1 = keras.layers.Dense(30, activation=\"relu\")(input_B)\n",
    "hidden2 = keras.layers.Dense(30, activation=\"relu\")(hidden1)\n",
    "concat = keras.layers.Concatenate()([input_A, hidden2])\n",
    "main_output = keras.layers.Dense(1, name=\"main_output\")(concat)\n",
    "aux_output = keras.layers.Dense(1, name=\"aux_output\")(hidden2)\n",
    "model = keras.Model(inputs=[input_A, input_B], outputs=[main_output, aux_output])"
   ]
  },
  {
   "cell_type": "code",
   "execution_count": 54,
   "id": "04301e3c-398a-4212-be08-a280539a7052",
   "metadata": {},
   "outputs": [],
   "source": [
    "model.compile(loss=[\"mse\", \"mse\"], loss_weights=[0.9, 0.1], optimizer=keras.optimizers.SGD(learning_rate=1e-3))"
   ]
  },
  {
   "cell_type": "code",
   "execution_count": 55,
   "id": "d6327cbb-c8c1-4342-9462-e0a852d79e58",
   "metadata": {},
   "outputs": [
    {
     "name": "stdout",
     "output_type": "stream",
     "text": [
      "Epoch 1/20\n",
      "2/2 [==============================] - 1s 152ms/step - loss: 6.2615 - main_output_loss: 6.3555 - aux_output_loss: 5.4161 - val_loss: 7.1946 - val_main_output_loss: 7.3727 - val_aux_output_loss: 5.5926\n",
      "Epoch 2/20\n",
      "2/2 [==============================] - 0s 24ms/step - loss: 6.1744 - main_output_loss: 6.2594 - aux_output_loss: 5.4102 - val_loss: 7.1126 - val_main_output_loss: 7.2821 - val_aux_output_loss: 5.5867\n",
      "Epoch 3/20\n",
      "2/2 [==============================] - 0s 25ms/step - loss: 6.0892 - main_output_loss: 6.1653 - aux_output_loss: 5.4041 - val_loss: 7.0309 - val_main_output_loss: 7.1920 - val_aux_output_loss: 5.5806\n",
      "Epoch 4/20\n",
      "2/2 [==============================] - 0s 24ms/step - loss: 6.0053 - main_output_loss: 6.0728 - aux_output_loss: 5.3978 - val_loss: 6.9522 - val_main_output_loss: 7.1053 - val_aux_output_loss: 5.5743\n",
      "Epoch 5/20\n",
      "2/2 [==============================] - 0s 24ms/step - loss: 5.9233 - main_output_loss: 5.9824 - aux_output_loss: 5.3912 - val_loss: 6.8731 - val_main_output_loss: 7.0181 - val_aux_output_loss: 5.5677\n",
      "Epoch 6/20\n",
      "2/2 [==============================] - 0s 24ms/step - loss: 5.8427 - main_output_loss: 5.8937 - aux_output_loss: 5.3844 - val_loss: 6.7983 - val_main_output_loss: 6.9358 - val_aux_output_loss: 5.5609\n",
      "Epoch 7/20\n",
      "2/2 [==============================] - 0s 24ms/step - loss: 5.7636 - main_output_loss: 5.8065 - aux_output_loss: 5.3774 - val_loss: 6.7242 - val_main_output_loss: 6.8542 - val_aux_output_loss: 5.5538\n",
      "Epoch 8/20\n",
      "2/2 [==============================] - 0s 24ms/step - loss: 5.6860 - main_output_loss: 5.7211 - aux_output_loss: 5.3701 - val_loss: 6.6499 - val_main_output_loss: 6.7725 - val_aux_output_loss: 5.5466\n",
      "Epoch 9/20\n",
      "2/2 [==============================] - 0s 24ms/step - loss: 5.6100 - main_output_loss: 5.6374 - aux_output_loss: 5.3626 - val_loss: 6.5759 - val_main_output_loss: 6.6911 - val_aux_output_loss: 5.5390\n",
      "Epoch 10/20\n",
      "2/2 [==============================] - 0s 24ms/step - loss: 5.5351 - main_output_loss: 5.5552 - aux_output_loss: 5.3549 - val_loss: 6.5051 - val_main_output_loss: 6.6133 - val_aux_output_loss: 5.5313\n",
      "Epoch 11/20\n",
      "2/2 [==============================] - 0s 24ms/step - loss: 5.4613 - main_output_loss: 5.4740 - aux_output_loss: 5.3469 - val_loss: 6.4353 - val_main_output_loss: 6.5366 - val_aux_output_loss: 5.5233\n",
      "Epoch 12/20\n",
      "2/2 [==============================] - 0s 24ms/step - loss: 5.3890 - main_output_loss: 5.3946 - aux_output_loss: 5.3387 - val_loss: 6.3640 - val_main_output_loss: 6.4583 - val_aux_output_loss: 5.5151\n",
      "Epoch 13/20\n",
      "2/2 [==============================] - 0s 23ms/step - loss: 5.3178 - main_output_loss: 5.3164 - aux_output_loss: 5.3304 - val_loss: 6.2959 - val_main_output_loss: 6.3835 - val_aux_output_loss: 5.5067\n",
      "Epoch 14/20\n",
      "2/2 [==============================] - 0s 24ms/step - loss: 5.2476 - main_output_loss: 5.2394 - aux_output_loss: 5.3219 - val_loss: 6.2289 - val_main_output_loss: 6.3101 - val_aux_output_loss: 5.4980\n",
      "Epoch 15/20\n",
      "2/2 [==============================] - 0s 23ms/step - loss: 5.1788 - main_output_loss: 5.1639 - aux_output_loss: 5.3131 - val_loss: 6.1643 - val_main_output_loss: 6.2392 - val_aux_output_loss: 5.4893\n",
      "Epoch 16/20\n",
      "2/2 [==============================] - 0s 25ms/step - loss: 5.1111 - main_output_loss: 5.0897 - aux_output_loss: 5.3041 - val_loss: 6.0986 - val_main_output_loss: 6.1674 - val_aux_output_loss: 5.4802\n",
      "Epoch 17/20\n",
      "2/2 [==============================] - 0s 24ms/step - loss: 5.0443 - main_output_loss: 5.0164 - aux_output_loss: 5.2949 - val_loss: 6.0357 - val_main_output_loss: 6.0985 - val_aux_output_loss: 5.4710\n",
      "Epoch 18/20\n",
      "2/2 [==============================] - 0s 24ms/step - loss: 4.9785 - main_output_loss: 4.9444 - aux_output_loss: 5.2855 - val_loss: 5.9742 - val_main_output_loss: 6.0311 - val_aux_output_loss: 5.4616\n",
      "Epoch 19/20\n",
      "2/2 [==============================] - 0s 23ms/step - loss: 4.9140 - main_output_loss: 4.8738 - aux_output_loss: 5.2759 - val_loss: 5.9111 - val_main_output_loss: 5.9621 - val_aux_output_loss: 5.4520\n",
      "Epoch 20/20\n",
      "2/2 [==============================] - 0s 24ms/step - loss: 4.8504 - main_output_loss: 4.8042 - aux_output_loss: 5.2662 - val_loss: 5.8497 - val_main_output_loss: 5.8949 - val_aux_output_loss: 5.4421\n"
     ]
    }
   ],
   "source": [
    "history = model.fit((X_train_A, X_train_B), [y_train, y_train], epochs=20, batch_size =8192,\n",
    "                    validation_data=([X_valid_A, X_valid_B], [y_valid, y_valid]))"
   ]
  },
  {
   "cell_type": "code",
   "execution_count": 56,
   "id": "c4451dec-0c9f-4b5b-8676-e8a1f420871b",
   "metadata": {},
   "outputs": [
    {
     "name": "stdout",
     "output_type": "stream",
     "text": [
      "129/129 [==============================] - 0s 2ms/step - loss: 5.0010 - main_output_loss: 4.9767 - aux_output_loss: 5.2201\n"
     ]
    },
    {
     "data": {
      "text/plain": [
       "(5.0010175704956055, 4.976673126220703, 5.220113277435303)"
      ]
     },
     "execution_count": 56,
     "metadata": {},
     "output_type": "execute_result"
    }
   ],
   "source": [
    "total_loss, main_loss, aux_loss = model.evaluate([X_test_A, X_test_B], [y_test, y_test])\n",
    "total_loss, main_loss, aux_loss"
   ]
  },
  {
   "cell_type": "code",
   "execution_count": 57,
   "id": "39c3b139-1d20-4acf-8f51-1593b63da2c4",
   "metadata": {},
   "outputs": [
    {
     "data": {
      "text/plain": [
       "5.001017141342163"
      ]
     },
     "execution_count": 57,
     "metadata": {},
     "output_type": "execute_result"
    }
   ],
   "source": [
    "main_loss*0.9 + aux_loss*0.1"
   ]
  },
  {
   "cell_type": "code",
   "execution_count": 58,
   "id": "5dc45fe2-8de6-4dc2-a4c5-4334e4ada6d1",
   "metadata": {},
   "outputs": [
    {
     "data": {
      "text/plain": [
       "(array([[0.21007305],\n",
       "        [0.4586207 ],\n",
       "        [1.2292644 ]], dtype=float32),\n",
       " array([[-0.07690513],\n",
       "        [ 0.08613979],\n",
       "        [ 0.3110096 ]], dtype=float32))"
      ]
     },
     "execution_count": 58,
     "metadata": {},
     "output_type": "execute_result"
    }
   ],
   "source": [
    "y_pred_main, y_pred_aux = model.predict([X_new_A, X_new_B])\n",
    "y_pred_main, y_pred_aux"
   ]
  },
  {
   "cell_type": "code",
   "execution_count": 59,
   "id": "74a294fe-fab6-4bc4-aa6e-5a5e0548a3ea",
   "metadata": {},
   "outputs": [
    {
     "data": {
      "text/plain": [
       "<tf.Tensor: shape=(3,), dtype=float32, numpy=array([0.477  , 0.458  , 5.00001], dtype=float32)>"
      ]
     },
     "execution_count": 59,
     "metadata": {},
     "output_type": "execute_result"
    }
   ],
   "source": [
    "y_new"
   ]
  },
  {
   "cell_type": "code",
   "execution_count": 60,
   "id": "96d07e5a-86a0-4a7e-8323-dea82b79374e",
   "metadata": {},
   "outputs": [
    {
     "data": {
      "text/plain": [
       "'/job:localhost/replica:0/task:0/device:CPU:0'"
      ]
     },
     "execution_count": 60,
     "metadata": {},
     "output_type": "execute_result"
    }
   ],
   "source": [
    "tf.Variable(42).device"
   ]
  },
  {
   "cell_type": "code",
   "execution_count": null,
   "id": "14f72c08-e1ad-4400-b8bd-291240a6bb61",
   "metadata": {},
   "outputs": [],
   "source": []
  }
 ],
 "metadata": {
  "kernelspec": {
   "display_name": "tf2:Python",
   "language": "python",
   "name": "conda-env-tf2-py"
  },
  "language_info": {
   "codemirror_mode": {
    "name": "ipython",
    "version": 3
   },
   "file_extension": ".py",
   "mimetype": "text/x-python",
   "name": "python",
   "nbconvert_exporter": "python",
   "pygments_lexer": "ipython3",
   "version": "3.8.12"
  }
 },
 "nbformat": 4,
 "nbformat_minor": 5
}
