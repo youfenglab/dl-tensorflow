{
 "cells": [
  {
   "cell_type": "code",
   "execution_count": 1,
   "id": "001089ec",
   "metadata": {},
   "outputs": [],
   "source": [
    "import tensorflow as tf\n",
    "from tensorflow import keras"
   ]
  },
  {
   "cell_type": "code",
   "execution_count": 2,
   "id": "868288e9",
   "metadata": {},
   "outputs": [],
   "source": [
    "fashion_mnist = keras.datasets.fashion_mnist\n",
    "train, test = fashion_mnist.load_data()"
   ]
  },
  {
   "cell_type": "code",
   "execution_count": 3,
   "id": "5e0fc7e5",
   "metadata": {
    "scrolled": true
   },
   "outputs": [],
   "source": [
    "X_train, y_train = train[0][:-5000]/255.0, train[1][:-5000]\n",
    "X_valid, y_valid = train[0][-5000:]/255.0, train[1][-5000:]\n",
    "X_test, y_test = test[0]/255.0, test[1]"
   ]
  },
  {
   "cell_type": "code",
   "execution_count": 4,
   "id": "37f7fb00",
   "metadata": {},
   "outputs": [],
   "source": [
    "# build model\n",
    "model = keras.models.Sequential()\n",
    "model.add(keras.layers.Flatten(input_shape=[28,28]))\n",
    "model.add(keras.layers.Dense(300, activation=\"relu\"))\n",
    "model.add(keras.layers.Dense(100, activation=\"relu\"))\n",
    "model.add(keras.layers.Dense(10, activation=\"softmax\"))"
   ]
  },
  {
   "cell_type": "code",
   "execution_count": 5,
   "id": "c3dd16ff",
   "metadata": {},
   "outputs": [
    {
     "name": "stdout",
     "output_type": "stream",
     "text": [
      "Model: \"sequential\"\n",
      "_________________________________________________________________\n",
      " Layer (type)                Output Shape              Param #   \n",
      "=================================================================\n",
      " flatten (Flatten)           (None, 784)               0         \n",
      "                                                                 \n",
      " dense (Dense)               (None, 300)               235500    \n",
      "                                                                 \n",
      " dense_1 (Dense)             (None, 100)               30100     \n",
      "                                                                 \n",
      " dense_2 (Dense)             (None, 10)                1010      \n",
      "                                                                 \n",
      "=================================================================\n",
      "Total params: 266,610\n",
      "Trainable params: 266,610\n",
      "Non-trainable params: 0\n",
      "_________________________________________________________________\n"
     ]
    }
   ],
   "source": [
    "model.summary()"
   ]
  },
  {
   "cell_type": "code",
   "execution_count": 6,
   "id": "ad342668",
   "metadata": {},
   "outputs": [
    {
     "data": {
      "text/plain": [
       "[<keras.layers.core.flatten.Flatten at 0x7f55c111bdc0>,\n",
       " <keras.layers.core.dense.Dense at 0x7f56556a9eb0>,\n",
       " <keras.layers.core.dense.Dense at 0x7f55a39b6fd0>,\n",
       " <keras.layers.core.dense.Dense at 0x7f5590036a90>]"
      ]
     },
     "execution_count": 6,
     "metadata": {},
     "output_type": "execute_result"
    }
   ],
   "source": [
    "model.layers"
   ]
  },
  {
   "cell_type": "code",
   "execution_count": 7,
   "id": "74132c09",
   "metadata": {},
   "outputs": [
    {
     "data": {
      "text/plain": [
       "6"
      ]
     },
     "execution_count": 7,
     "metadata": {},
     "output_type": "execute_result"
    }
   ],
   "source": [
    "model_weights = model.get_weights()\n",
    "len(model_weights)"
   ]
  },
  {
   "cell_type": "code",
   "execution_count": 8,
   "id": "f862d6d1",
   "metadata": {},
   "outputs": [
    {
     "data": {
      "text/plain": [
       "((784, 300), (300,))"
      ]
     },
     "execution_count": 8,
     "metadata": {},
     "output_type": "execute_result"
    }
   ],
   "source": [
    "model_weights[0].shape, model_weights[1].shape # weights and biases of dense layer 1"
   ]
  },
  {
   "cell_type": "code",
   "execution_count": 9,
   "id": "ebf3f731",
   "metadata": {},
   "outputs": [
    {
     "data": {
      "text/plain": [
       "((300, 100), (100,))"
      ]
     },
     "execution_count": 9,
     "metadata": {},
     "output_type": "execute_result"
    }
   ],
   "source": [
    "model_weights[2].shape, model_weights[3].shape"
   ]
  },
  {
   "cell_type": "code",
   "execution_count": 10,
   "id": "37ab0443",
   "metadata": {},
   "outputs": [
    {
     "data": {
      "text/plain": [
       "((100, 10), (10,))"
      ]
     },
     "execution_count": 10,
     "metadata": {},
     "output_type": "execute_result"
    }
   ],
   "source": [
    "model_weights[4].shape, model_weights[5].shape"
   ]
  },
  {
   "cell_type": "code",
   "execution_count": 11,
   "id": "2024fb21",
   "metadata": {},
   "outputs": [],
   "source": [
    "# compile model\n",
    "model.compile(loss=\"sparse_categorical_crossentropy\", optimizer=\"sgd\", metrics=[\"accuracy\"])"
   ]
  },
  {
   "cell_type": "code",
   "execution_count": 12,
   "id": "b32c85b0",
   "metadata": {},
   "outputs": [
    {
     "name": "stdout",
     "output_type": "stream",
     "text": [
      "Epoch 1/30\n",
      "55000/55000 [==============================] - 78s 1ms/step - loss: 0.5140 - accuracy: 0.8121 - val_loss: 0.4280 - val_accuracy: 0.8456\n",
      "Epoch 2/30\n",
      "55000/55000 [==============================] - 77s 1ms/step - loss: 0.3945 - accuracy: 0.8556 - val_loss: 0.3910 - val_accuracy: 0.8566\n",
      "Epoch 3/30\n",
      "55000/55000 [==============================] - 77s 1ms/step - loss: 0.3573 - accuracy: 0.8667 - val_loss: 0.3606 - val_accuracy: 0.8632\n",
      "Epoch 4/30\n",
      "55000/55000 [==============================] - 77s 1ms/step - loss: 0.3343 - accuracy: 0.8770 - val_loss: 0.3391 - val_accuracy: 0.8758\n",
      "Epoch 5/30\n",
      "55000/55000 [==============================] - 77s 1ms/step - loss: 0.3174 - accuracy: 0.8828 - val_loss: 0.3495 - val_accuracy: 0.8722\n",
      "Epoch 6/30\n",
      "55000/55000 [==============================] - 77s 1ms/step - loss: 0.3021 - accuracy: 0.8877 - val_loss: 0.3428 - val_accuracy: 0.8802\n",
      "Epoch 7/30\n",
      "55000/55000 [==============================] - 77s 1ms/step - loss: 0.2895 - accuracy: 0.8906 - val_loss: 0.3829 - val_accuracy: 0.8652\n",
      "Epoch 8/30\n",
      "55000/55000 [==============================] - 77s 1ms/step - loss: 0.2810 - accuracy: 0.8938 - val_loss: 0.3455 - val_accuracy: 0.8776\n",
      "Epoch 9/30\n",
      "55000/55000 [==============================] - 77s 1ms/step - loss: 0.2704 - accuracy: 0.8970 - val_loss: 0.3519 - val_accuracy: 0.8780\n",
      "Epoch 10/30\n",
      "55000/55000 [==============================] - 77s 1ms/step - loss: 0.2662 - accuracy: 0.8999 - val_loss: 0.3440 - val_accuracy: 0.8792\n",
      "Epoch 11/30\n",
      "55000/55000 [==============================] - 77s 1ms/step - loss: 0.2577 - accuracy: 0.9033 - val_loss: 0.3665 - val_accuracy: 0.8768\n",
      "Epoch 12/30\n",
      "55000/55000 [==============================] - 77s 1ms/step - loss: 0.2507 - accuracy: 0.9054 - val_loss: 0.3322 - val_accuracy: 0.8828\n",
      "Epoch 13/30\n",
      "55000/55000 [==============================] - 77s 1ms/step - loss: 0.2467 - accuracy: 0.9067 - val_loss: 0.3652 - val_accuracy: 0.8788\n",
      "Epoch 14/30\n",
      "55000/55000 [==============================] - 77s 1ms/step - loss: 0.2367 - accuracy: 0.9090 - val_loss: 0.3738 - val_accuracy: 0.8728\n",
      "Epoch 15/30\n",
      "55000/55000 [==============================] - 77s 1ms/step - loss: 0.2303 - accuracy: 0.9122 - val_loss: 0.3609 - val_accuracy: 0.8870\n",
      "Epoch 16/30\n",
      "55000/55000 [==============================] - 77s 1ms/step - loss: 0.2240 - accuracy: 0.9135 - val_loss: 0.3626 - val_accuracy: 0.8816\n",
      "Epoch 17/30\n",
      "55000/55000 [==============================] - 77s 1ms/step - loss: 0.2224 - accuracy: 0.9155 - val_loss: 0.3810 - val_accuracy: 0.8822\n",
      "Epoch 18/30\n",
      "55000/55000 [==============================] - 77s 1ms/step - loss: 0.2178 - accuracy: 0.9171 - val_loss: 0.4156 - val_accuracy: 0.8788\n",
      "Epoch 19/30\n",
      "55000/55000 [==============================] - 77s 1ms/step - loss: 0.2148 - accuracy: 0.9187 - val_loss: 0.3733 - val_accuracy: 0.8874\n",
      "Epoch 20/30\n",
      "55000/55000 [==============================] - 77s 1ms/step - loss: 0.2114 - accuracy: 0.9195 - val_loss: 0.3659 - val_accuracy: 0.8874\n",
      "Epoch 21/30\n",
      "55000/55000 [==============================] - 77s 1ms/step - loss: 0.2056 - accuracy: 0.9226 - val_loss: 0.3995 - val_accuracy: 0.8798\n",
      "Epoch 22/30\n",
      "55000/55000 [==============================] - 77s 1ms/step - loss: 0.2007 - accuracy: 0.9238 - val_loss: 0.3894 - val_accuracy: 0.8874\n",
      "Epoch 23/30\n",
      "55000/55000 [==============================] - 77s 1ms/step - loss: 0.1986 - accuracy: 0.9241 - val_loss: 0.3903 - val_accuracy: 0.8820\n",
      "Epoch 24/30\n",
      "55000/55000 [==============================] - 77s 1ms/step - loss: 0.1949 - accuracy: 0.9254 - val_loss: 0.3886 - val_accuracy: 0.8886\n",
      "Epoch 25/30\n",
      "55000/55000 [==============================] - 77s 1ms/step - loss: 0.1896 - accuracy: 0.9279 - val_loss: 0.4020 - val_accuracy: 0.8870\n",
      "Epoch 26/30\n",
      "55000/55000 [==============================] - 77s 1ms/step - loss: 0.1872 - accuracy: 0.9291 - val_loss: 0.4412 - val_accuracy: 0.8820\n",
      "Epoch 27/30\n",
      "55000/55000 [==============================] - 77s 1ms/step - loss: 0.1874 - accuracy: 0.9288 - val_loss: 0.3768 - val_accuracy: 0.8894\n",
      "Epoch 28/30\n",
      "55000/55000 [==============================] - 77s 1ms/step - loss: 0.1799 - accuracy: 0.9309 - val_loss: 0.4017 - val_accuracy: 0.8752\n",
      "Epoch 29/30\n",
      "55000/55000 [==============================] - 77s 1ms/step - loss: 0.1776 - accuracy: 0.9324 - val_loss: 0.4258 - val_accuracy: 0.8744\n",
      "Epoch 30/30\n",
      "55000/55000 [==============================] - 77s 1ms/step - loss: 0.1730 - accuracy: 0.9337 - val_loss: 0.4185 - val_accuracy: 0.8854\n"
     ]
    }
   ],
   "source": [
    "# train model, default batch_size = 32\n",
    "history = model.fit(X_train, y_train, epochs=30, batch_size =1, validation_data=(X_valid, y_valid))"
   ]
  },
  {
   "cell_type": "code",
   "execution_count": 13,
   "id": "dc2f67d9",
   "metadata": {},
   "outputs": [
    {
     "data": {
      "text/plain": [
       "dict_keys(['loss', 'accuracy', 'val_loss', 'val_accuracy'])"
      ]
     },
     "execution_count": 13,
     "metadata": {},
     "output_type": "execute_result"
    }
   ],
   "source": [
    "history.history.keys()"
   ]
  },
  {
   "cell_type": "code",
   "execution_count": 14,
   "id": "8f377fc9",
   "metadata": {},
   "outputs": [],
   "source": [
    "import pandas as pd\n",
    "import matplotlib.pyplot as plt"
   ]
  },
  {
   "cell_type": "code",
   "execution_count": 15,
   "id": "651987ea",
   "metadata": {},
   "outputs": [
    {
     "data": {
      "image/png": "[encoded data removed]",
      "text/plain": [
       "<Figure size 576x360 with 1 Axes>"
      ]
     },
     "metadata": {
      "needs_background": "light"
     },
     "output_type": "display_data"
    }
   ],
   "source": [
    "pd.DataFrame(history.history).plot(figsize=(8,5))\n",
    "plt.grid(True)\n",
    "plt.gca().set_ylim(0,1)\n",
    "plt.show()"
   ]
  },
  {
   "cell_type": "code",
   "execution_count": 16,
   "id": "01454a0f",
   "metadata": {},
   "outputs": [
    {
     "name": "stdout",
     "output_type": "stream",
     "text": [
      "313/313 [==============================] - 1s 2ms/step - loss: 0.4270 - accuracy: 0.8832\n"
     ]
    },
    {
     "data": {
      "text/plain": [
       "[0.42699185013771057, 0.8831999897956848]"
      ]
     },
     "execution_count": 16,
     "metadata": {},
     "output_type": "execute_result"
    }
   ],
   "source": [
    "# model evaluation\n",
    "model.evaluate(X_test, y_test)"
   ]
  },
  {
   "cell_type": "code",
   "execution_count": 17,
   "id": "c29e4e5d",
   "metadata": {},
   "outputs": [
    {
     "data": {
      "text/plain": [
       "array([[0., 0., 0., 0., 0., 0., 0., 0., 0., 1.],\n",
       "       [0., 0., 1., 0., 0., 0., 0., 0., 0., 0.],\n",
       "       [0., 1., 0., 0., 0., 0., 0., 0., 0., 0.]], dtype=float32)"
      ]
     },
     "execution_count": 17,
     "metadata": {},
     "output_type": "execute_result"
    }
   ],
   "source": [
    "# model prediction\n",
    "unknown = X_test[:3]\n",
    "y_proba = model.predict(unknown)\n",
    "y_proba.round(2)"
   ]
  },
  {
   "cell_type": "code",
   "execution_count": 18,
   "id": "aa08247e",
   "metadata": {},
   "outputs": [
    {
     "data": {
      "text/plain": [
       "array([9, 2, 1])"
      ]
     },
     "execution_count": 18,
     "metadata": {},
     "output_type": "execute_result"
    }
   ],
   "source": [
    "import numpy as np\n",
    "y_pred = np.argmax(y_proba, axis=1)\n",
    "y_pred"
   ]
  },
  {
   "cell_type": "code",
   "execution_count": 19,
   "id": "f632c655",
   "metadata": {},
   "outputs": [
    {
     "data": {
      "text/plain": [
       "array([9, 2, 1], dtype=uint8)"
      ]
     },
     "execution_count": 19,
     "metadata": {},
     "output_type": "execute_result"
    }
   ],
   "source": [
    "unknown_labels = y_test[:3]\n",
    "unknown_labels"
   ]
  },
  {
   "cell_type": "code",
   "execution_count": 20,
   "id": "31101d47",
   "metadata": {},
   "outputs": [
    {
     "data": {
      "text/plain": [
       "array([ True,  True,  True])"
      ]
     },
     "execution_count": 20,
     "metadata": {},
     "output_type": "execute_result"
    }
   ],
   "source": [
    "y_pred == unknown_labels"
   ]
  },
  {
   "cell_type": "code",
   "execution_count": null,
   "id": "3ef1d6be",
   "metadata": {},
   "outputs": [],
   "source": [
    "a = [1,2,3,4,5,6,7,8,92]"
   ]
  }
 ],
 "metadata": {
  "kernelspec": {
   "display_name": "tf2:Python",
   "language": "python",
   "name": "conda-env-tf2-py"
  },
  "language_info": {
   "codemirror_mode": {
    "name": "ipython",
    "version": 3
   },
   "file_extension": ".py",
   "mimetype": "text/x-python",
   "name": "python",
   "nbconvert_exporter": "python",
   "pygments_lexer": "ipython3",
   "version": "3.8.12"
  }
 },
 "nbformat": 4,
 "nbformat_minor": 5
}
